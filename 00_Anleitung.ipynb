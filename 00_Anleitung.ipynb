{
 "cells": [
  {
   "cell_type": "markdown",
   "metadata": {},
   "source": [
    "# Anleitung\n",
    "Python Notebooks sind in Zellen (Cells) unterteilt. Zellen enthalten entweder formatierten Text (Markdown Option im Drop-Down Menü in der Symbolleiste) oder Python Quelltext der ausgeführt werden kann (Code Option).\n",
    "\n",
    "Die Zelle direkt unter dieser enthält eine Python Anweisung. Sie können sie ausführen, indem Sie die Zelle mit einem Mausklick markieren und dann oben auf den *Run* Button klicken."
   ]
  },
  {
   "cell_type": "code",
   "execution_count": null,
   "metadata": {},
   "outputs": [],
   "source": [
    "print(\"Grundlagen der Informatik\")"
   ]
  },
  {
   "cell_type": "markdown",
   "metadata": {},
   "source": [
    "Die Ausgabe, die durch die Ausführung des Quelltexts entsteht, wird direkt unter die Zelle geschrieben.\n",
    "\n",
    "<code>print()</code> ist eine eingebaute Funktion, die etwas (z.B. Text und Zahlenwerte aber auch komplexere inhalte) ausgibt."
   ]
  },
  {
   "cell_type": "markdown",
   "metadata": {},
   "source": [
    "## Quelltext bearbeiten\n",
    "Ändern Sie den Code in der obigen Zelle so ab, dass er anstatt <code>Hello, World!</code> den Text <code>Grundlagen der Informatik</code> ausgibt.\n",
    "\n",
    "Überprüfen Sie Ihre Änderungen, indem Sie den Codeblock erneut ausführen."
   ]
  },
  {
   "cell_type": "markdown",
   "metadata": {},
   "source": [
    "## Ausführung unterbrechen und Ausgabe löschen\n",
    "Unten finden Sie ein etwas komplizierteres Beispiel. Die Anweisungen, die darin verwendet werden, lernen wir später noch genauer kennen.\n",
    "\n",
    "Starten Sie die Zelle. Der Algorithmus in dieser Zelle ist dynamisch unendlich (vgl. Eigenschaften eines Algorithmus aus der Vorlesung). Er terminiert also nicht von selbst.\n",
    "\n",
    "Um die Ausführung wieder zu beenden, klicken Sie auf den *interrupt the kernel* Button in der Symbolleiste."
   ]
  },
  {
   "cell_type": "code",
   "execution_count": null,
   "metadata": {},
   "outputs": [],
   "source": [
    "from time import sleep\n",
    "a = 1\n",
    "while True:\n",
    "    print(a)\n",
    "    a = a + 1\n",
    "    sleep(1)"
   ]
  },
  {
   "cell_type": "markdown",
   "metadata": {},
   "source": [
    "Manchmal stören die vielen Ausgaben zwischen den Code-Zellen. Um die Ausgaben zu löschen, wählen Sie *Cell > All Output >  Clear* aus dem Menü.\n",
    "\n",
    "Gelegentlich stürzt der Python Interpreter, der den Code aus den Notebooks ausführt ab. In diesem Fall kann er mit der Menü Option *Kernel > Restart* neu gestartet werden."
   ]
  },
  {
   "cell_type": "code",
   "execution_count": null,
   "metadata": {},
   "outputs": [],
   "source": []
  }
 ],
 "metadata": {
  "kernelspec": {
   "display_name": "Python 3",
   "language": "python",
   "name": "python3"
  },
  "language_info": {
   "codemirror_mode": {
    "name": "ipython",
    "version": 3
   },
   "file_extension": ".py",
   "mimetype": "text/x-python",
   "name": "python",
   "nbconvert_exporter": "python",
   "pygments_lexer": "ipython3",
   "version": "3.6.9"
  }
 },
 "nbformat": 4,
 "nbformat_minor": 2
}
