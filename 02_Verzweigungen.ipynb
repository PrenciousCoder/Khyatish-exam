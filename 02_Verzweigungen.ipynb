{
 "cells": [
  {
   "cell_type": "markdown",
   "metadata": {},
   "source": [
    "# Verzweigungen\n",
    "Verzweigungen gehören neben den einfachen Anweisungen und den Wiederholungen zu den drei Grundaktionen, aus denen Algorithmen bestehen.\n",
    "\n",
    "Eine Verzweigung prüft immer eine Bedingung. Ist die Bedingung wahr (<code>True</code>), wird ein Anweisungsblock ausgeführt. Ist die Bedingung Falsch (<code>False</code>), wird entweder nichts oder ein anderer Teil ausgeführt."
   ]
  },
  {
   "cell_type": "code",
   "execution_count": null,
   "metadata": {},
   "outputs": [],
   "source": [
    "a = int(input(\"Bitte Wert für a eingeben: \"))\n",
    "if (a > 5):\n",
    "    print(\"a ist größer als 5.\")\n",
    "    \n",
    "b = int(input(\"Bitte Wert für b eingeben: \"))\n",
    "if (b > 5):\n",
    "    print(\"b ist größer als 5.\")"
   ]
  },
  {
   "cell_type": "markdown",
   "metadata": {},
   "source": [
    "Das <code>if</code> Schlüsselwort prüft eine Bedingung und führt, sofern diese Wahr ist, den zugehörigen Codeblock aus.\n",
    "\n",
    "Damit klar ist, welche Anweisungen zu einem Codeblock gehören, werden diese gleichmäßig eingerückt. Sobald eine Anweisung nach dem if-codeblock wieder ganz am linken Zeilenrand beginnt, ist klar dass sie nicht mehr zum If statement gehört."
   ]
  },
  {
   "cell_type": "code",
   "execution_count": null,
   "metadata": {},
   "outputs": [],
   "source": [
    "a = int(input(\"Bitte Wert für a eingeben: \"))\n",
    "if (a == 3):\n",
    "    print(\"a ist gleich drei!\")\n",
    "    print(\"Dieser Text wird nur angezeigt, wenn a genau drei ist.\")\n",
    "print(\"Dieser Text wird immer angezeigt, da die Anweisung nicht mehr zum if-codeblock gehört.\")"
   ]
  },
  {
   "cell_type": "markdown",
   "metadata": {},
   "source": [
    "## Wenn die Bedingung nicht erfüllt ist\n",
    "Für den Fall, dass die Bedingung nicht erfüllt ist, wird in den obigen Beispielen die if Anweisung mit dem gesamten dazugehörigen Codeblock übersprungen.\n",
    "\n",
    "Soll ein Codeblock hinzugefügt werden, der **nur dann** ausgeführt wird, wenn eine Bedingung **nicht** Wahr ist, so muss das Schlüsselwort <code>else</code> verwenden werden:"
   ]
  },
  {
   "cell_type": "code",
   "execution_count": null,
   "metadata": {},
   "outputs": [],
   "source": [
    "a = int(input(\"Bitte Wert für a eingeben: \"))\n",
    "if (a == 3):\n",
    "    print(\"a ist genau 3.\")\n",
    "else:\n",
    "    print(\"a ist nicht gleich 3.\")\n",
    "\n",
    "b = int(input(\"Bitte Wert für b eingeben: \"))\n",
    "if (b == 3):\n",
    "    print(\"b ist genau 3.\")\n",
    "else:\n",
    "    print(\"b ist nicht gleich 3.\")"
   ]
  },
  {
   "cell_type": "markdown",
   "metadata": {},
   "source": [
    "# Mehrere Bedingungen prüfen\n",
    "\n",
    "Für den Fall, dass mehrere Bedingungen geprüft werden sollen, gibt es zusätzlich das Schlüsselwort <code>elif</code>. Die Anweisungen die zu einem <code>elif</code> Zweig gehören (durch entsprechende Einrückung gekennzeichnet), werden nur dann ausgeführt, wenn die Bedingung nach dem zugehörigen <code>if</code> Statement nicht wahr ist aber die Bedingung nach dem <code>elif</code> Statement wahr ist.\n",
    "\n",
    "Ein <code>elif</code> Block kann immer nur nach einem <code>if</code> oder einem anderen <code>elif</code> Block stehen. Natürlich wäre es auch möglich, statt des <code>elif</code> einfach ein neues <code>if</code> zu schreiben. Aber das wäre sehr ineffizient, da stets beide Ausdrücke ausgewertet werden müssen, wohingegen die <code>elif</code> Lösung nur ausgewertet wird, wenn die <code>if</code> Anweisung erfolglos war."
   ]
  },
  {
   "cell_type": "code",
   "execution_count": null,
   "metadata": {},
   "outputs": [],
   "source": [
    "a = 3\n",
    "b = 5\n",
    "\n",
    "if (a == 4):\n",
    "    print(\"a ist genau 4!\")\n",
    "elif (b == 5):\n",
    "    print(\"a ist zwar nicht gleich 4 aber dafür ist b gleich 5!\")\n",
    "else:\n",
    "    print(\"a ist nicht gleich 4 und b ist nicht gleich 5!\")\n",
    "    \n",
    "#-----------------------------------------------------------------\n",
    "\n",
    "wert = int(input(\"Bitte eine Zahl eingeben: \"))\n",
    "\n",
    "if (wert < 3):\n",
    "    print(\"Wert ist echt kleiner als 3.\")\n",
    "elif (wert >=3) and (wert < 9):\n",
    "    print(\"Wert ist im Bereich 3 (inklusive) bis 9 (exklusive).\")\n",
    "else:\n",
    "    print(\"Wert ist größer oder gleich 9.\")"
   ]
  },
  {
   "cell_type": "markdown",
   "metadata": {},
   "source": [
    "## Alternative Schreibweisen in Python für \"leichte\" Verzweigungen\n",
    "\n",
    "Es soll im Folgenden noch kurz auf alternative Schreibweisen für Verzweigungen eingegangen werden. Damit sollen Sie in den Stand versetzt werden, dass Sie bestehenden Python Code lesen können. Speziell zu Beginn wird empfohlen, die oben beschriebene Schreibweise zu nutzen, da sie übersichtlicher ist und etwas weniger fehleranfällig.\n"
   ]
  },
  {
   "cell_type": "code",
   "execution_count": null,
   "metadata": {},
   "outputs": [],
   "source": [
    "if (x == 1):\n",
    "    a = 1\n",
    "else:\n",
    "    a = 2"
   ]
  },
  {
   "cell_type": "markdown",
   "metadata": {},
   "source": [
    "Dabei handelt es sich um einen einfachen Ausdruck, der der Variable a unterschiedliche Werte zuweist für unterschiedliche x Werte. Dies ist eine recht aufwendige Schreibweise. Daher gibt es folgende Kurzschreibweise:"
   ]
  },
  {
   "cell_type": "code",
   "execution_count": null,
   "metadata": {},
   "outputs": [],
   "source": [
    "a = (1 if (x == 1) else 2)"
   ]
  },
  {
   "cell_type": "markdown",
   "metadata": {},
   "source": [
    "Die Klammern sind in diesem Fall nicht notwendig, erhöhen aber die Lesbarkeit ungemein. Diese Schreibweise wird auch **Bedingte Ausdrücke** genannt.\n",
    "\n",
    "Die allgemeine Formulierung eines Bedingten Ausdrucks lautet:\n",
    "**A if Bedingung else B**.\n",
    "A und B sind dabei Anweisungen und nicht nur einfache Zuweisungen. Dadurch können auch folgende <code>print()</code> Anweisungen geschrieben werden:"
   ]
  },
  {
   "cell_type": "code",
   "execution_count": null,
   "metadata": {},
   "outputs": [],
   "source": [
    "x = 5\n",
    "print(\"x hat den Wert 1\" if (x == 1) else \"x ist ungleich 1\")"
   ]
  },
  {
   "cell_type": "markdown",
   "metadata": {},
   "source": [
    "Erneut sind die Klammern um <code> x == 1 </code> nicht notwendig, aber guter Programmierstil."
   ]
  },
  {
   "cell_type": "markdown",
   "metadata": {},
   "source": [
    "# Frage nach größten Integer und Float Zahlen\n",
    "\n",
    "Die größten Integer und Float Zahlen können folgendermaßen ermittelt werden. Dabei wird eine Bibliothek eingebunden. Näheres dazu erfahren wir in späteren Vorlesungen."
   ]
  },
  {
   "cell_type": "code",
   "execution_count": 1,
   "metadata": {},
   "outputs": [
    {
     "name": "stdout",
     "output_type": "stream",
     "text": [
      "Max Integer:  9223372036854775807\n",
      "Max Float:  1.7976931348623157e+308\n"
     ]
    }
   ],
   "source": [
    "import sys #das ist die Bibliothek\n",
    "print(\"Max Integer: \", sys.maxsize)\n",
    "print(\"Max Float: \", sys.float_info.max)"
   ]
  },
  {
   "cell_type": "markdown",
   "metadata": {},
   "source": [
    "Hierbei ist anzumerken, dass die E-Schreibweise genutzt wurde. Der maximale Float Wert ist mathematisch $$1.7976931348623157 \\cdot 10^{308}$$\n",
    "\n",
    "Die E-Schreibweise führt nach dem \"e\" den Exponenten zur Basis 10 auf. Für Float Zahlen ist die Eingabe mit der \"E-Schreibweise\" auch möglich. Vor den Exponenten kann natürlich auch ein \"-\" geschrieben werden um zum Beispiel diese Zahl zu spezifizieren:\n",
    "$$1.7976931348623157 \\cdot 10^{-308}$$"
   ]
  },
  {
   "cell_type": "code",
   "execution_count": null,
   "metadata": {},
   "outputs": [],
   "source": []
  }
 ],
 "metadata": {
  "kernelspec": {
   "display_name": "Python 3",
   "language": "python",
   "name": "python3"
  },
  "language_info": {
   "codemirror_mode": {
    "name": "ipython",
    "version": 3
   },
   "file_extension": ".py",
   "mimetype": "text/x-python",
   "name": "python",
   "nbconvert_exporter": "python",
   "pygments_lexer": "ipython3",
   "version": "3.6.9"
  }
 },
 "nbformat": 4,
 "nbformat_minor": 2
}
