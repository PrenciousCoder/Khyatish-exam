{
 "cells": [
  {
   "cell_type": "markdown",
   "metadata": {},
   "source": [
    "# Schleifen\n",
    "\n",
    "In der Vorlesung haben wir drei Arten von Wiederholungen kennen gelernt:\n",
    "\n",
    "- Die kopfgesteuerte Wiederholung\n",
    "- Die fußgesteuerte Wiederholung\n",
    "- Die Zählschleifen\n",
    "\n",
    "**In Python gibt es die Fußgesteuerte Wiederholung nicht. Da kopfgesteuerte und fußgesteuerte Wiederholungen ineinander umwandeln werden können, stellt das keine Einschränkung dar.**\n",
    "\n",
    "**Aufgabe**\n",
    "\n",
    "Überlegen Sie sich anhand eines Nassi-Shneidermann-Diagramms, wie eine fußgesteuerte Wiederholung in eine kopfgesteuerte Wiederholung umwandelt werden kann.\n",
    "\n",
    "## Die Zählschleife\n",
    "\n",
    "Aus der Vorlesung: Die Zählschleife dient dazu, einen Anweisungsblock wiederholt auszuführen. Dabei ist die Anzahl der Wiederholungen genau bestimmt (beispielsweise soll der Anweisungsblock 5 mal wiederholt werden). Meistens wird dabei eine Variable (hier wird von einer Laufvariablen gesprochen) mit jedem Durchlauf des Anweisungsblocks erhöht (für die Variable wird in der Schleife der Startwert, der Endwert und die Schrittweite angegeben).\n",
    "\n",
    "In Python sieht eine solche Zählschleife wie folgt aus:"
   ]
  },
  {
   "cell_type": "code",
   "execution_count": null,
   "metadata": {},
   "outputs": [],
   "source": [
    "for i in range(10, 1, -2):\n",
    "    print(i)"
   ]
  },
  {
   "cell_type": "markdown",
   "metadata": {},
   "source": [
    "Die Schleife wird durch die Schlüsselworte <code>for</code> und <code>in</code> gebildet. Danach folgt wie bei der Verzweigung ein eingerückter Anweisungsblock.\n",
    "\n",
    "Die Laufvariable ist in diesem Beispiel <code>i</code>. Sie wird vom Startwert 1 bis zum Endwert 5 bei jedem durchlauf um die Schrittweite 1 erhöht. Der angegebene Endwert 5 wird allerdings nicht erreicht. Die Schleife gibt nur die Werte 1 bis 4 aus. Die range Funktion arbeitet also so, dass sie nur Zahlen die kleiner als der angegebene Endwert ausgibt.\n",
    "\n",
    "Wird in der range Funktion die Schrittweite nicht angegeben (<code>range(1, 5)</code>), wird automatisch eine Schrittweite = 1 angenomen. Gleiches gilt für den Startwert. Hier wird 0 angenommen, wenn kein Parameter angegeben wird (z.B. <code>range(3)</code>).\n",
    "\n",
    "**Aufgabe**\n",
    "\n",
    "Probieren sie in der obigen Zelle verschiedene Zahlen für Startwert, Endwert und Schrittweite aus. Was passiert, wenn der Endwert kleiner als der Startwert ist oder die Schrittweite negativ ist?\n",
    "\n",
    "**Zusatz: Warum wird die range Funktion benötigt?**\n",
    "\n",
    "Eigentlich kann die <code>for ... in ...</code> Schleife in Python noch etwas mehr als nur eine einfache Zählschleife darstellen. Die Funktion <code>range</code> liefert ein Iterator Objekt zurück (was Objekte sind, werden wir später noch in der objektorientierten Programmierung kennen lernen). Das Iterator Objekt beinhaltet im Prinzip eine Liste an Elementen, die nacheinander an die for Schleife weitergegeben werden. Im Beispiel oben also eine Liste von Zahlen vom Startwert bis zum Endwert.\n",
    "\n",
    "## Die kopfgesteuerte Wiederholung\n",
    "\n",
    "Aus der Vorlesung: Die kopfgesteuerte Wiederholung prüft zunächst eine Bedingung und wiederholt einen Anweisungsblock so lange die Bedingung erfüllt ist.\n",
    "\n",
    "Die kopfgesteuerte Wiederholung wird in Python durch das Schlüsselwort <code>while</code> eingeleitet:"
   ]
  },
  {
   "cell_type": "code",
   "execution_count": null,
   "metadata": {},
   "outputs": [],
   "source": [
    "i = 1\n",
    "while i <= 1024:\n",
    "    i = i * 2\n",
    "    print(i)"
   ]
  },
  {
   "cell_type": "markdown",
   "metadata": {},
   "source": [
    "In diesem Beispiel ist die Bedingung <code>i &lt;= 1024</code>. So lange diese Bedingung erfüllt ist, wird der Anweisungsblock ausgeführt, in dem i mit 2 multipliziert wird und dann das Ergebnis ausgegeben wird.\n",
    "\n",
    "**Aufgabe**\n",
    "\n",
    "Überlegen Sie sich, warum im obigen Beispiel die Zahl 2048 ausgegeben wird, obwohl die Bedingung <code>i &lt;= 1024</code> ist.\n",
    "\n",
    "**Das break Statement**\n",
    "\n",
    "Die Auswerung der Bedingung in der while Schleife liefert ein Ergebnis vom Typ Boolean zurück (<code>True</code> oder <code>False</code>). Wir können daher in der While Schleife auch einfach eine Konstante vom Typ Boolean verwenden:"
   ]
  },
  {
   "cell_type": "code",
   "execution_count": null,
   "metadata": {},
   "outputs": [],
   "source": [
    "i = 1\n",
    "while True:\n",
    "    i = i * 2\n",
    "    print(i)"
   ]
  },
  {
   "cell_type": "markdown",
   "metadata": {},
   "source": [
    "Da die Bedingung der while Schleife in diesem Beispiel immer wahr ist, wird die Schleife nie beendet. Um trotzdem eine Möglichkiet zu haben, die Schleife abzubrechen, gibt es das <code>break</code> statement:"
   ]
  },
  {
   "cell_type": "code",
   "execution_count": null,
   "metadata": {},
   "outputs": [],
   "source": [
    "i = 1\n",
    "while True:\n",
    "    i = i * 2\n",
    "    print(i)\n",
    "    if i > 1024:\n",
    "        break"
   ]
  },
  {
   "cell_type": "markdown",
   "metadata": {},
   "source": [
    "Sobald die Anweisung <code>break</code> ausgeführt wird, wird die Schleife abgebrochen. Sowohl while als auf for Schleifen können auf diese Weise abgebrochen werden.\n",
    "\n",
    "Das letzte Beispiel entspricht einer fußgesteuerten Wiederholung. Beachten Sie, dass bei diesem Beispiel die Bedingung invertiert werden muss (vergleiche <code>i &lt;= 1024</code> und <code>i &gt; 1024</code>).\n",
    "\n",
    "**Das continue Statement**\n",
    "\n",
    "Ganz ähnlich dem <code>break</code> Schlüsselwort gibt es für Schleifen auch den <code>continue</code> Befehl. Dieser bricht nur den momentanen Schleifendurchlauf ab aber nicht die komplette Schleife (<code>break</code> bricht die gesamte Schleife ab)."
   ]
  },
  {
   "cell_type": "code",
   "execution_count": 1,
   "metadata": {},
   "outputs": [
    {
     "name": "stdout",
     "output_type": "stream",
     "text": [
      "0\n",
      "2\n",
      "4\n",
      "6\n",
      "8\n",
      "10\n",
      "12\n",
      "14\n",
      "16\n",
      "18\n"
     ]
    }
   ],
   "source": [
    "for i in range(20):\n",
    "    \n",
    "    # ignoriere alle ungeraden Zahlen\n",
    "    if i % 2 != 0:\n",
    "        continue\n",
    "        \n",
    "    print(i)"
   ]
  }
 ],
 "metadata": {
  "kernelspec": {
   "display_name": "Python 3.9.12 64-bit",
   "language": "python",
   "name": "python3"
  },
  "language_info": {
   "codemirror_mode": {
    "name": "ipython",
    "version": 3
   },
   "file_extension": ".py",
   "mimetype": "text/x-python",
   "name": "python",
   "nbconvert_exporter": "python",
   "pygments_lexer": "ipython3",
   "version": "3.9.12"
  },
  "vscode": {
   "interpreter": {
    "hash": "b0fa6594d8f4cbf19f97940f81e996739fb7646882a419484c72d19e05852a7e"
   }
  }
 },
 "nbformat": 4,
 "nbformat_minor": 2
}
