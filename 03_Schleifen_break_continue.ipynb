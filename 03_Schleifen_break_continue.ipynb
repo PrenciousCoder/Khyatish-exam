{
 "cells": [
  {
   "cell_type": "markdown",
   "metadata": {},
   "source": [
    "# Zusätzliche Erläuterungen zu break und continue\n",
    "\n",
    "In diesem kurzen zusätzlichen Tutorial sollen <code>break</code> und <code>continue</code> etwas näher erläutert werden. Dazu müssen Sie den Programmabläufen folgen und dadurch verstehen, wie diese beiden Kommandos in while und for Schleifen genutzt werden können.\n",
    "\n",
    "## break\n",
    "\n",
    "Wir beginnen mit break. Sie sollten im Beispiel sehen, dass nicht alle Indices 1-9 ausgegeben werden, sondern nur bis 7, da bei Index 8 ein <code>break</code> erfolgt. Die for Schleife wird dadurch sofort verlassen und nichts mehr ausgeführt. Die Ausführung wird dann nach der for-Schleife forgesetzt."
   ]
  },
  {
   "cell_type": "code",
   "execution_count": null,
   "metadata": {},
   "outputs": [],
   "source": [
    "for i in range(10):\n",
    "    if(i == 8):\n",
    "        break\n",
    "    print(\"Mein Schleifenindex ist nun: \" + str(i))\n",
    "print(\"Ausführung nach der for-Schleife.\")"
   ]
  },
  {
   "cell_type": "markdown",
   "metadata": {},
   "source": [
    "Die gleiche Funktionalität kann auch mit einer while-Schleife beschrieben werden. Beispiel:"
   ]
  },
  {
   "cell_type": "code",
   "execution_count": null,
   "metadata": {},
   "outputs": [],
   "source": [
    "i = 0\n",
    "while (i < 10):\n",
    "    if(i == 8):\n",
    "        break\n",
    "    print(\"Mein Schleifenindex ist nun: \"+str(i))\n",
    "    i += 1 #i = i + 1\n",
    "print(\"Ausführung nach der while-Schleife, i wurde nicht mehr auf 9 erhöht, i:\" + str(i))"
   ]
  },
  {
   "cell_type": "markdown",
   "metadata": {},
   "source": [
    "## continue\n",
    "\n",
    "Mit dem Keyword <code>continue</code> kann spezifiziert werden, dass direkt mit der nächsten Schleifeniteration weitergemacht und der \"Rest\" der derzeitigen Iteration übersprungen werden soll. Beides geht erneut mit der <cod>for</code> als auch mit der <code>while</code>-Schleife. Sie sollten sehen, dass die **8** ausgelassen wird, da continue einfach mit der nächsten for-Schleife weitermacht."
   ]
  },
  {
   "cell_type": "code",
   "execution_count": null,
   "metadata": {},
   "outputs": [],
   "source": [
    "for i in range(10):\n",
    "    if(i == 8):\n",
    "        continue\n",
    "    print(\"Mein Schleifenindex ist nun: \" + str(i))\n",
    "print(\"Ausführung nach der for-Schleife.\")"
   ]
  },
  {
   "cell_type": "markdown",
   "metadata": {},
   "source": [
    "Das gleiche Beispiel mit der while-Schleife. Erneut wird die **8** nicht ausgedruckt."
   ]
  },
  {
   "cell_type": "code",
   "execution_count": null,
   "metadata": {},
   "outputs": [],
   "source": [
    "i = -1\n",
    "while (i < 9):\n",
    "    i += 1 #i=i+1\n",
    "    if(i == 8):\n",
    "        continue\n",
    "    print(\"Mein Schleifenindex ist nun: \"+str(i))\n",
    "print(\"Ausführung nach der while-Schleife\")"
   ]
  },
  {
   "cell_type": "code",
   "execution_count": null,
   "metadata": {},
   "outputs": [],
   "source": []
  }
 ],
 "metadata": {
  "kernelspec": {
   "display_name": "Python 3",
   "language": "python",
   "name": "python3"
  },
  "language_info": {
   "codemirror_mode": {
    "name": "ipython",
    "version": 3
   },
   "file_extension": ".py",
   "mimetype": "text/x-python",
   "name": "python",
   "nbconvert_exporter": "python",
   "pygments_lexer": "ipython3",
   "version": "3.6.9"
  }
 },
 "nbformat": 4,
 "nbformat_minor": 4
}
