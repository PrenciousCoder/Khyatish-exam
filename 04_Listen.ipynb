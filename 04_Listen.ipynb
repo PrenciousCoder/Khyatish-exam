{
 "cells": [
  {
   "cell_type": "markdown",
   "metadata": {},
   "source": [
    "# Listen/Arrays\n",
    "\n",
    "Listen (in anderen Programmiersprachen oft als Arrays bezeichnet) dienen dazu, mehrere Variablen unter einem gemeinsamen Namen zu sammeln. Die einzelnen Variablen, die in der Liste gespeichert werden, werden durchnummeriert und können über ihre Nummer (d.h. über ihren Index) angesprochen werden.\n",
    "\n",
    "## Listen erzeugen\n",
    "\n",
    "Listen werden erzeugt, indem die einzelnen Elemente der Liste in eckige Klammern gefasst werden. Um beispielsweise eine Liste mit den Elementen \"Grundlagen\", \"der\" und \"Informatik\" zu erzeugen kann Folgendes geschrieben werden:"
   ]
  },
  {
   "cell_type": "code",
   "execution_count": null,
   "metadata": {},
   "outputs": [],
   "source": [
    "# eine Liste erzeugen \n",
    "eine_liste = [\"Grundlagen\", \"der\", \"Informatik\"]\n",
    "\n",
    "# Informationen über die Liste ausgeben\n",
    "print(type(eine_liste))\n",
    "print(eine_liste)"
   ]
  },
  {
   "cell_type": "markdown",
   "metadata": {},
   "source": [
    "Die Liste enthält in diesem Fall drei Elemente vom Typ String. Das erste Element bekommt den Index 0, das zweite den Index 1 und das dritte Element den Index 2. Dies ist eine sehr typische Fehlerquelle. Es ist daher zu beachten, dass Listen **stets mit Index 0** starten und nicht mit dem Index 1.\n",
    "\n",
    "## Zugriff auf die Listenelemente\n",
    "\n",
    "Um nun auf die einzelnen Elemente zugreifen zu können, wird der Index in eckigen Klammern hinter den Namen der Liste geschrieben:"
   ]
  },
  {
   "cell_type": "code",
   "execution_count": null,
   "metadata": {},
   "outputs": [],
   "source": [
    "print(eine_liste[0])\n",
    "print(type(eine_liste[0]))"
   ]
  },
  {
   "cell_type": "markdown",
   "metadata": {},
   "source": [
    "Der Index fängt also immer bei 0 an und geht bis n-1 wenn n die Anzahl der Listenelemente ist.\n",
    "\n",
    "Anstatt einer Konstante kann der Index auch eine Variable sein:"
   ]
  },
  {
   "cell_type": "code",
   "execution_count": null,
   "metadata": {},
   "outputs": [],
   "source": [
    "i = 1\n",
    "print(eine_liste[i])"
   ]
  },
  {
   "cell_type": "markdown",
   "metadata": {},
   "source": [
    "Wichtig dabei ist, dass die Variable vom Typ Integer sein muss. Es gibt noch eine weitere Bedingung an die Index Variable. Probieren Sie aus, in der obigen Zelle die Variable i auf einen hohen Wert zu setzen, für den in der Liste kein Element mehr existiert. Was passiert?\n",
    "\n",
    "## Listen mit vielen Elementen\n",
    "\n",
    "Listen mit wenigen Elementen lassen sich wie oben gezeigt sehr gut erzeugen. Was passiert allerdings, wenn Listen benötigt werden, die nicht nur ein paar Elemente enthalten sondern sehr viele?\n",
    "\n",
    "Wir möchten beispielsweise eine Liste erzeugen mit 1000 Elementen, die fortlaufende Zahlen enthalten (also [0, 1, 2, 3, usw.]). Es wäre zwar möglich, diese Liste auszuschreiben, aber auch sehr unpraktisch. Einfacher geht das mit einer for Schleife:"
   ]
  },
  {
   "cell_type": "code",
   "execution_count": null,
   "metadata": {},
   "outputs": [],
   "source": [
    "eine_große_liste = [i for i in range(1000)]\n",
    "print(eine_große_liste)"
   ]
  },
  {
   "cell_type": "markdown",
   "metadata": {},
   "source": [
    "Wichtig ist, dass der Anweisungeblock der for Schleife in diesem Beispiel fehlt. Dafür gibt es jetzt einen Ausdruck vor der for Schleife, der wiederholt wird. \n",
    "\n",
    "So lassen sich auch Listen mit vielen gleichen Elementen erzeugen:"
   ]
  },
  {
   "cell_type": "code",
   "execution_count": null,
   "metadata": {},
   "outputs": [],
   "source": [
    "eine_weitere_große_liste = [0 for i in range(1000)]\n",
    "print(eine_weitere_große_liste)"
   ]
  },
  {
   "cell_type": "markdown",
   "metadata": {},
   "source": [
    "## Mehrdimensionale Listen\n",
    "\n",
    "In den einzelnen Elementen der Liste können nicht nur einfache Variablen gespeichert werden sondern auch wieder Listen selbst. Das Ergebnis ist sozusagen eine Liste von Listen."
   ]
  },
  {
   "cell_type": "code",
   "execution_count": null,
   "metadata": {},
   "outputs": [],
   "source": [
    "zweidimensionale_liste = [[1, 2],\n",
    "                          [3, 4],\n",
    "                          [5, 6]\n",
    "                         ]\n",
    "\n",
    "print(\"Der Datentyp der mehrdimensionalen Liste ist 'list':\")\n",
    "print(zweidimensionale_liste)\n",
    "print(type(zweidimensionale_liste))\n",
    "\n",
    "print(\"Ein Element der übergeordneten Liste ist selbst auch wieder eine Liste:\")\n",
    "print(zweidimensionale_liste[2])\n",
    "print(type(zweidimensionale_liste[2]))\n",
    "\n",
    "print(\"Auf die Elemente der untergeordneten Liste kann zugegriffen werden, indem ein zweiter Index angegeben wird:\")\n",
    "print(zweidimensionale_liste[2][1])\n",
    "print(type(zweidimensionale_liste[2][1]))\n",
    "\n",
    "# alle Elemente ausgeben\n",
    "for i in range(3):\n",
    "    for j in range(2):\n",
    "        print(zweidimensionale_liste[i][j])"
   ]
  },
  {
   "cell_type": "markdown",
   "metadata": {},
   "source": [
    "Listen können beliebig tief verschachtelt werden:"
   ]
  },
  {
   "cell_type": "code",
   "execution_count": 3,
   "metadata": {},
   "outputs": [
    {
     "name": "stdout",
     "output_type": "stream",
     "text": [
      "0\n",
      "1\n",
      "2\n",
      "3\n",
      "4\n",
      "5\n",
      "6\n",
      "7\n",
      "8\n",
      "9\n",
      "10\n",
      "11\n",
      "12\n",
      "13\n",
      "14\n",
      "15\n",
      "16\n",
      "17\n",
      "18\n",
      "19\n",
      "20\n",
      "21\n",
      "22\n",
      "23\n",
      "24\n",
      "25\n",
      "26\n"
     ]
    }
   ],
   "source": [
    "mehrdimensionale_liste = [[[ 0,  1,  2], [ 3,  4,  5], [ 6,  7,  8]],\n",
    "                          [[ 9, 10, 11], [12, 13, 14], [15, 16, 17]],\n",
    "                          [[18, 19, 20], [21, 22, 23], [24, 25, 26]]\n",
    "                         ]\n",
    "\n",
    "# alle Elemente ausgeben\n",
    "for i in range(3):\n",
    "    for j in range(3):\n",
    "        for k in range(3):\n",
    "            print(mehrdimensionale_liste[i][j][k])"
   ]
  },
  {
   "cell_type": "markdown",
   "metadata": {},
   "source": [
    "## Die Länge einer Liste bestimmen\n",
    "\n",
    "Bisher war die Länge der Listen immer aus der Initialisierung bekannt. Wir können die Größe von Listen aber auch explizit bestimmen. Dazu verwenden wir die Python Funktion <code>len()</code>:"
   ]
  },
  {
   "cell_type": "code",
   "execution_count": 2,
   "metadata": {},
   "outputs": [
    {
     "name": "stdout",
     "output_type": "stream",
     "text": [
      "Die Liste beinhaltet 3 Elemente.\n"
     ]
    }
   ],
   "source": [
    "eine_liste = [\"Grundlagen\", \"der\", \"Informatik\"]\n",
    "\n",
    "l = len(eine_liste)\n",
    "\n",
    "print(\"Die Liste beinhaltet \" + str(l) + \" Elemente.\")"
   ]
  },
  {
   "cell_type": "markdown",
   "metadata": {},
   "source": [
    "Mit der <code>len()</code> Funktion wird es möglich, Schleifen über Listen laufen zu lassen, ganz egal wie lang die Liste eigentlich ist. Dazu wird die ermittelte Länge der Liste an die <code>range()</code> Funktion der Schleife weitergegeben:"
   ]
  },
  {
   "cell_type": "code",
   "execution_count": null,
   "metadata": {},
   "outputs": [],
   "source": [
    "eine_liste = [23, 46, 67, 4, 2, 23, 45, 45]\n",
    "\n",
    "summe = 0\n",
    "for i in range(len(eine_liste)):\n",
    "    summe += eine_liste[i]\n",
    "    \n",
    "print(\"Die Summe aller Listenelemente ist \" + str(summe))"
   ]
  },
  {
   "cell_type": "markdown",
   "metadata": {},
   "source": [
    "## Iteration über Listen mit for Schleifen\n",
    "\n",
    "Bisher haben wir Zählschleifen verwendet, um über eine Liste zu iterieren:"
   ]
  },
  {
   "cell_type": "code",
   "execution_count": null,
   "metadata": {},
   "outputs": [],
   "source": [
    "eine_liste = [23, 64, 23, 457, 3, 2]\n",
    "\n",
    "for i in range(len(eine_liste)):\n",
    "    print(eine_liste[i])"
   ]
  },
  {
   "cell_type": "markdown",
   "metadata": {},
   "source": [
    "Die <code>for</code> Schleife in Python bietet uns noch eine weitere, etwas elegantere Methode, um über die Elemente einer Liste zu iterieren:"
   ]
  },
  {
   "cell_type": "code",
   "execution_count": null,
   "metadata": {},
   "outputs": [],
   "source": [
    "eine_liste = [23, 64, 23, 457, 3, 2]\n",
    "\n",
    "for element in eine_liste:\n",
    "    print(element)"
   ]
  },
  {
   "cell_type": "markdown",
   "metadata": {},
   "source": [
    "Hier wird in jedem Durchlauf der Schleife ein weiteres Element aus der Liste genommen und in der Variable <code>element</code> gespeichert. Danach wird der Anweisungsteil der Schleife ausgeführt und mit dem nächsten Element fortgefahren. Sobald es kein weiteres Element mehr gibt, ist die Abarbeitung der Schleife abgeschlossen.\n",
    "\n",
    "Die beiden Python Zellen aus diesem Abschnitt sind also äquivalent. Beide erfüllen die Aufgabe \"gebe alle Elemente einer Liste aus\"."
   ]
  },
  {
   "cell_type": "markdown",
   "metadata": {},
   "source": [
    "# Datentypen für Listeneinträge\n",
    "\n",
    "In vielen Programmiersprachen müssen Listen eindeutig definiert werden und es muss vor der ersten Nutzung der Datentyp für die einzelnen Elemente bestimmt sein. Python ist hier wesentlich flexibler in der Hinsicht, dass die einzelnen Listenelemente jeden möglichen Typ haben können. Wie bereits gesehen, können Elemente selber wieder Listen sein. Aber es ist auch möglich Listen vollkommen unterschiedlichen Typs zu kombinieren. \n",
    "\n",
    "Diese Eigenschaft Pythons gibt auf der einen Seite sehr viel Flexibilität, erfordert aber auf der anderen Seite auch sehr viel Sorgfalt bei der Bearbeitung der einzelnen Elemente, denn es muss stets sichergestellt sein, dass der jeweilige Typ vor einer Operation sichergestellt ist. Beispiele:"
   ]
  },
  {
   "cell_type": "code",
   "execution_count": 1,
   "metadata": {},
   "outputs": [
    {
     "name": "stdout",
     "output_type": "stream",
     "text": [
      "Index: 0 hat Typ: <class 'int'> und Wert:1\n",
      "Index: 1 hat Typ: <class 'float'> und Wert:2.3\n",
      "Index: 2 hat Typ: <class 'str'> und Wert:Hello World\n",
      "Index: 3 hat Typ: <class 'list'> und Wert:[1, 4.5]\n",
      "Index: 4 hat Typ: <class 'bool'> und Wert:True\n"
     ]
    }
   ],
   "source": [
    "eineListe = [1, 2.3, 'Hello World', [1, 4.5], True]\n",
    "\n",
    "for i in range(len(eineListe)): # wir iterieren durch die Liste:\n",
    "    print(\"Index: \" + str(i) + \" hat Typ: \" + str(type(eineListe[i])) + \" und Wert:\" + str(eineListe[i]))"
   ]
  },
  {
   "cell_type": "code",
   "execution_count": null,
   "metadata": {},
   "outputs": [],
   "source": []
  }
 ],
 "metadata": {
  "kernelspec": {
   "display_name": "Python 3.9.12 64-bit",
   "language": "python",
   "name": "python3"
  },
  "language_info": {
   "codemirror_mode": {
    "name": "ipython",
    "version": 3
   },
   "file_extension": ".py",
   "mimetype": "text/x-python",
   "name": "python",
   "nbconvert_exporter": "python",
   "pygments_lexer": "ipython3",
   "version": "3.9.12"
  },
  "vscode": {
   "interpreter": {
    "hash": "b0fa6594d8f4cbf19f97940f81e996739fb7646882a419484c72d19e05852a7e"
   }
  }
 },
 "nbformat": 4,
 "nbformat_minor": 2
}
