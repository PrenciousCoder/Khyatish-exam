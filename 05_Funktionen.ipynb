{
 "cells": [
  {
   "cell_type": "markdown",
   "metadata": {},
   "source": [
    "# Funktionen\n",
    "\n",
    "In der Vorlesung haben wir die Schnittstellendefinitionen kennen gelernt. Diese legen bei einem Algorithmus die Ein- und Ausgabeparameter fest und machen ihn in anderen Algorithmen aufrufbar.\n",
    "\n",
    "Das äquivalent zu den Schnittstellendefinitionen in der Programmierung sind die Funktionen. Eine Funktion beinhaltet eine Schnittstelle, die angibt, welche Variablen die Ein- und Ausgabeparameter sind und wie die Funktion heißt und eine Implementierung der Funktion.\n",
    "\n",
    "**Beispiel**\n",
    "\n",
    "Eine Funktion soll den Betrag der Differenz zweier Zahlen bestimmen:\n",
    "\n",
    "$$ d = | a - b | $$\n",
    "\n",
    "Eine Python Zelle für diese Aufgabe könnte so aussehen (ohne Verwendung von Funktionen):"
   ]
  },
  {
   "cell_type": "code",
   "execution_count": null,
   "metadata": {},
   "outputs": [],
   "source": [
    "# Werte eingeben\n",
    "a = float(input(\"Bitte a eingeben: \"))\n",
    "b = float(input(\"Bitte b eingeben: \"))\n",
    "\n",
    "# Betrag berechnen\n",
    "if a < b:\n",
    "    d = b - a\n",
    "else:\n",
    "    d = a - b\n",
    "\n",
    "# Ergebnis ausgeben\n",
    "print(\"Der berechnete Betrag der Differenz ist \" + str(d))"
   ]
  },
  {
   "cell_type": "markdown",
   "metadata": {},
   "source": [
    "Nun wird die Betragsberechnung in eine Funktion umgewandelt:"
   ]
  },
  {
   "cell_type": "code",
   "execution_count": null,
   "metadata": {},
   "outputs": [],
   "source": [
    "# Funktion betrag_berechnen erstellen\n",
    "def betrag_berechnen(a, b):\n",
    "    if a < b:\n",
    "        d = b - a\n",
    "    else:\n",
    "        d = a - b\n",
    "\n",
    "    return d\n",
    "\n",
    "# Werte eingeben\n",
    "eingabe_1 = float(input(\"Bitte ersten Wert eingeben: \"))\n",
    "eingabe_2 = float(input(\"Bitte zweiten Wert eingeben: \"))\n",
    "\n",
    "# Betrag berechnen\n",
    "ergebnis = betrag_berechnen(eingabe_1, eingabe_2)\n",
    "\n",
    "# Ergebnis ausgeben\n",
    "print(\"Der berechnete Betrag der Differenz ist \" + str(ergebnis))"
   ]
  },
  {
   "cell_type": "markdown",
   "metadata": {},
   "source": [
    "Eine Funktion wird immer mit dem Schlüsselword <code>def</code> eingeleitet. Danach steht der Name der Funktion und dahinter in Klammern die Parameterliste. Im Beispiel sind das die zwei Zahlen a und b deren Differenz berechnet werden soll.\n",
    "\n",
    "**Achtung**: Anders als in der Vorlesung beschreibt die Parameterliste in Python nur die Eingabeparameter die an die Funktion übergeben werden.\n",
    "\n",
    "Nach der Parameterliste folgt ein Doppelpunkt und darunter die eigentliche Implementierung der Funktion als Anweisungsblock.\n",
    "\n",
    "Um zu definieren, welcher Wert von der Funktion zurückgegeben wird, gibt es die <code>return</code> Anweisung. Sie gibt an, welche Variable von der Funktion zurückgegeben wird und beendet gleichzeitig die Funktion sobald sie ausgeführt wird.\n",
    "\n",
    "Hat eine Funktion keinen Rückgabeparameter, gibt es auch i.d.R. keine return Anweisung. Die Funktion wird dann beendet, sobald alle Anweisungen aus dem Anweisungsblock bearbeitet sind.\n",
    "\n",
    "Um die Funktion aufzurufen, werden der vorher definierte Name und in Klammern die Parameter verwendet, die der Funktion übergeben werden sollen (<code>betrag_berechnen(eingabe_1, eingabe_2)</code>). Dabei entscheidet die Reihenfolge der Parameter welcher Aktualparameter an welchen Formalparameter weitergegeben wird.\n",
    "\n",
    "In unserem Beispiel steht der Formalparameter <code>a</code> und beim Aufruf der Aktualparameter <code>eingabe_1</code> an erster Stelle, daher wird <code>eingabe_1</code> an <code>a</code> übergeben.\n",
    "\n",
    "Nach der Ausführung der Funktion wird der Funktionsaufruf durch den Rückgabewert ersetzt. In unserem Beispiel wird der Rückgabewert nach dem Funktionsaufruf mit dem Zuweisungsoperator in die Variable <code>ergebnis</code> geschrieben. Der Wert könnte alternativ auch in einer Berechnungsformel verwendet werden oder an eine weitere Funktion übergeben werden:\n",
    "\n",
    "<code>ergebnis = 5 + (2 * betrag_berechnen(eingabe_1, eingabe_2))</code> oder\n",
    "\n",
    "<code>print(betrag_berechnen(eingabe_1, eingabe_2))</code>\n",
    "\n",
    "**Beispiel 2: Zeichenketten ausgeben**\n",
    "\n",
    "Eine Funktion soll Zeichenketten mit bestimmter Länge ausgeben:"
   ]
  },
  {
   "cell_type": "code",
   "execution_count": null,
   "metadata": {},
   "outputs": [],
   "source": [
    "# Funktion definieren\n",
    "def zeichenkette_ausgeben(länge):\n",
    "    zeichenkette = \"#\" * länge\n",
    "    print(zeichenkette)\n",
    "\n",
    "# Funktion aufrufen\n",
    "for i in range(10):\n",
    "    zeichenkette_ausgeben(i)"
   ]
  },
  {
   "cell_type": "markdown",
   "metadata": {},
   "source": [
    "Die Funktion in diesem Beispiel besitzt keine <code>return</code> Anweisung, da sie keinen Wert zurückgibt. Entsprechend wird in der Anweisung, die die Funktion aufruft auch nichts weiter berechnet oder zugewiesen. Es wird nur die Funktion aufgerufen.\n",
    "\n",
    "**Parameter vorab initialisieren**\n",
    "\n",
    "Parameter, die an Funktionen übergeben werden, können auch mit einem Wert vorinitialisiert werden, sodass der Parameter nicht mehr unbedingt beim Funktionsaufruf mit übergeben werden muss. Im Beispiel von eben mit der Zeichenkette könnten wir festlegen, dass die Funktion eine Zeichenkette der Länge 10 ausgibt, wenn der Parameter nicht angegeben wird.\n",
    "\n",
    "Dazu schreiben wir eine Zuweisung in die Parameterliste der Funktiondeklaration."
   ]
  },
  {
   "cell_type": "code",
   "execution_count": null,
   "metadata": {},
   "outputs": [],
   "source": [
    "# Funktion definieren\n",
    "def zeichenkette_ausgeben(länge = 10):\n",
    "    zeichenkette = \"#\" * länge\n",
    "    print(zeichenkette)\n",
    "\n",
    "# Funktion aufrufen\n",
    "for i in range(10):\n",
    "    zeichenkette_ausgeben(i)\n",
    "    \n",
    "print(\"---\")\n",
    "\n",
    "# Funktion ohne Parameter aufrufen\n",
    "zeichenkette_ausgeben()"
   ]
  },
  {
   "cell_type": "markdown",
   "metadata": {},
   "source": [
    "Der letzte Aufruf von <code>zeichenkette_ausgeben</code> hat eine Zeichenkette der Länge 10 ausgegeben, obwohl wir der Funktion keinen Parameter übergeben haben. Dieser Aufruf hätte in der Python Zelle oben ohne die vorab Initialisierung einen Fehler gegeben."
   ]
  }
 ],
 "metadata": {
  "kernelspec": {
   "display_name": "Python 3.9.12 64-bit",
   "language": "python",
   "name": "python3"
  },
  "language_info": {
   "codemirror_mode": {
    "name": "ipython",
    "version": 3
   },
   "file_extension": ".py",
   "mimetype": "text/x-python",
   "name": "python",
   "nbconvert_exporter": "python",
   "pygments_lexer": "ipython3",
   "version": "3.9.12"
  },
  "vscode": {
   "interpreter": {
    "hash": "b0fa6594d8f4cbf19f97940f81e996739fb7646882a419484c72d19e05852a7e"
   }
  }
 },
 "nbformat": 4,
 "nbformat_minor": 2
}
