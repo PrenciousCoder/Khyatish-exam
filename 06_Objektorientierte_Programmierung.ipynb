{
 "cells": [
  {
   "cell_type": "markdown",
   "metadata": {},
   "source": [
    "# Objektorientierte Programmierung\n",
    "\n",
    "Bisher haben wir uns fast ohne Ausnahmen mit einfachen Datentypen befasst. Eine Variable hat immer nur einen Wert aufgenommen.\n",
    "\n",
    "In der Objektorientierten Programmierung werden in Variablen Objekte gespeichert, zu denen nicht nur Datenwerte gehören, sondern auch eigene Funktionen. Was alles zu einem solchen Objekt gehört, wird in einer Klasse beschrieben. Die Klasse ist ein Bauplan, wie die Objekte zu erstellen sind."
   ]
  },
  {
   "cell_type": "code",
   "execution_count": null,
   "metadata": {},
   "outputs": [],
   "source": [
    "class Auto:\n",
    "    def fahren(self):\n",
    "        print(\"Das Auto fährt.\")"
   ]
  },
  {
   "cell_type": "markdown",
   "metadata": {},
   "source": [
    "Im Beispiel wird die Klasse <code>Auto</code> definiert. Die Klassendefinition beginnt immer mit dem Schlüsselwort <code>class</code> gefolgt vom Namen der Klasse und einem Doppelpunkt.\n",
    "\n",
    "Innerhalb der Klassendefinition können nun Funktionen definiert werden, die über die Variable, in der ein Objekt der Klasse gespeichert ist, aufgerufen werden können.\n",
    "\n",
    "In unserem Beispiel ist eine Funktion mit dem Namen <code>fahren</code> definiert. Diese erzeugt eine einfache Ausgabe.\n",
    "\n",
    "Ein Objekt der Klasse (das auch als Instanz bezeichnet wird) wird erzeugt, indem der Klassennamen aufgerufen wird. Mit dem Zuweisungsoperator kann diese Instanz dann in einer Variable gespeichert werden:"
   ]
  },
  {
   "cell_type": "code",
   "execution_count": null,
   "metadata": {},
   "outputs": [],
   "source": [
    "mein_auto = Auto()\n",
    "\n",
    "mein_auto.fahren()"
   ]
  },
  {
   "cell_type": "markdown",
   "metadata": {},
   "source": [
    "Die Funktion wird dann aufgerufen, indem der Name der Instanz angegeben und der Funktionsname mit einem \".\" angehängt wird.\n",
    "\n",
    "In der Definition der Funktion wurde der Parameter <code>self</code> definiert. Dass dieser beim Aufruf nicht mehr auftaucht, ist eine Besonderheit von Funktionen von Klassen. Diese Funktionen werden auch als Methoden der Klassen bezeichnet.\n",
    "\n",
    "Der Parameter <code>self</code> wird nur bei der Definition und nicht mehr beim Aufruf der Klassenmethode angegeben. Er wird automatisch vom Python Interpreter beim Aufruf übergeben und ist eine Referenz auf das entsprechende Objekt.\n",
    "\n",
    "Im obigen Beispiel würde <code>self</code> also auf <code>mein_auto</code> verweisen.\n",
    "\n",
    "Eine besondere Methode ist <code>\\_\\_init\\_\\_</code>. Sie wird automatisch aufgerufen, sobald die Instanz erzeugt wird. Dies wird auch als Konstruktor der Klasse bezeichnet (obwohl es sich rein technisch nicht um einen Konstruktor im eigentlichen Sinne handelt, werden wir die <code>\\_\\_init\\_\\_</code> Methode als Konstruktor bezeichnen, da die Unterschiede für die Inhalte dieses Kurses nicht relevant sind)."
   ]
  },
  {
   "cell_type": "code",
   "execution_count": null,
   "metadata": {},
   "outputs": [],
   "source": [
    "class Auto:\n",
    "    def __init__(self):\n",
    "        print(\"Das Auto wird erzeugt(gebaut).\")\n",
    "    \n",
    "    def fahren(self):\n",
    "        print(\"Das Auto fährt.\")\n",
    "        \n",
    "peters_auto = Auto()\n",
    "peters_auto.fahren()"
   ]
  },
  {
   "cell_type": "markdown",
   "metadata": {},
   "source": [
    "Zusätzlich zu Methoden können in Klassenobjekten auch Variablen gespeichert werden (hier wird von Eigenschaften oder Attributen gesprochen). Die Attribute werden üblicherweise innerhalb von Funktionen über die <code>self</code> Referenz definiert. Im folgenden Beispiel wird die Eigenschaft <code>ist_neu</code> definiert."
   ]
  },
  {
   "cell_type": "code",
   "execution_count": null,
   "metadata": {},
   "outputs": [],
   "source": [
    "class Auto:\n",
    "    def __init__(self):\n",
    "        print(\"Das Auto wird erzeugt(gebaut).\")\n",
    "        self.ist_neu = True\n",
    "    \n",
    "    def fahren(self):\n",
    "        print(\"Das Auto fährt.\")\n",
    "        self.ist_neu = False\n",
    "        \n",
    "    def zustand_ausgeben(self):\n",
    "        if self.ist_neu:\n",
    "            print(\"Das auto ist neu.\")\n",
    "        else:\n",
    "            print(\"Das Auto ist nicht neu.\")\n",
    "\n",
    "peters_auto = Auto()\n",
    "martins_auto = Auto()\n",
    "\n",
    "peters_auto.zustand_ausgeben()\n",
    "peters_auto.fahren()\n",
    "peters_auto.zustand_ausgeben()\n",
    "\n",
    "martins_auto.zustand_ausgeben()"
   ]
  },
  {
   "cell_type": "markdown",
   "metadata": {},
   "source": [
    "Auf die Eigenschaften kann auch außerhalb der Klasse zugegriffen werden."
   ]
  },
  {
   "cell_type": "code",
   "execution_count": null,
   "metadata": {},
   "outputs": [],
   "source": [
    "print(peters_auto.ist_neu)"
   ]
  },
  {
   "cell_type": "markdown",
   "metadata": {},
   "source": [
    "Im obigen Beispiel werden die Ausgaben schnell unübersichtlich.\n",
    "\n",
    "Das kann gelöst werden, indem den Autos ein Name gegeben wird. Der Name wird direkt dem Konstruktor übergeben, der die Eigenschaft im Objekt anlegt."
   ]
  },
  {
   "cell_type": "code",
   "execution_count": null,
   "metadata": {},
   "outputs": [],
   "source": [
    "class Auto:\n",
    "    def __init__(self, name):\n",
    "        print(name + \"'s Auto wird erzeugt(gebaut).\")\n",
    "        self.ist_neu = True\n",
    "        self.name = name\n",
    "    \n",
    "    def fahren(self):\n",
    "        print(self.name + \"'s Auto fährt.\")\n",
    "        self.ist_neu = False\n",
    "        \n",
    "    def zustand_ausgeben(self):\n",
    "        if self.ist_neu:\n",
    "            print(self.name + \"'s auto ist neu.\")\n",
    "        else:\n",
    "            print(self.name + \"'s Auto ist nicht neu.\")\n",
    "\n",
    "peters_auto = Auto(\"Peter\")\n",
    "martins_auto = Auto(\"Martin\")\n",
    "\n",
    "peters_auto.zustand_ausgeben()\n",
    "peters_auto.fahren()\n",
    "peters_auto.zustand_ausgeben()\n",
    "\n",
    "martins_auto.zustand_ausgeben()"
   ]
  },
  {
   "cell_type": "markdown",
   "metadata": {},
   "source": [
    "In manchen Fällen kommt es vor, dass auf Methoden oder Attribute nicht von außerhalb der Klasse zugegriffen werden soll (wenn Methoden und Attribute zur internen Berechnung verwendet werden sollen). In solchen Fällen werden dem Namen zwei Unterstriche vorangestellt:"
   ]
  },
  {
   "cell_type": "code",
   "execution_count": null,
   "metadata": {},
   "outputs": [],
   "source": [
    "class Auto:\n",
    "    def __init__(self, name):\n",
    "        print(name + \"'s Auto wird erzeugt(gebaut).\")\n",
    "        self.__ist_neu = True\n",
    "        self.name = name\n",
    "    \n",
    "    def fahren(self):\n",
    "        print(self.name + \"'s Auto fährt.\")\n",
    "        self.__ist_neu = False\n",
    "        \n",
    "    def zustand_ausgeben(self):\n",
    "        if self.__ist_neu:\n",
    "            print(self.name + \"'s auto ist neu.\")\n",
    "        else:\n",
    "            print(self.name + \"'s Auto ist nicht neu.\")\n",
    "\n",
    "peters_auto = Auto(\"Peter\")\n",
    "martins_auto = Auto(\"Martin\")\n",
    "\n",
    "peters_auto.zustand_ausgeben()\n",
    "peters_auto.fahren()\n",
    "peters_auto.zustand_ausgeben()\n",
    "\n",
    "martins_auto.zustand_ausgeben()\n",
    "\n",
    "print(peters_auto.__ist_neu)"
   ]
  },
  {
   "cell_type": "markdown",
   "metadata": {},
   "source": [
    "Die letzte Anweisung erzeugt nun einen Fehler, da versucht wird, von Außen auf eine versteckte Eigenschaft zuzugreifen. Solche versteckten Eigenschaften und Methoden werden als private Eigenschaften und Methoden bezeichnet."
   ]
  }
 ],
 "metadata": {
  "kernelspec": {
   "display_name": "Python 3",
   "language": "python",
   "name": "python3"
  },
  "language_info": {
   "codemirror_mode": {
    "name": "ipython",
    "version": 3
   },
   "file_extension": ".py",
   "mimetype": "text/x-python",
   "name": "python",
   "nbconvert_exporter": "python",
   "pygments_lexer": "ipython3",
   "version": "3.6.9"
  }
 },
 "nbformat": 4,
 "nbformat_minor": 2
}
