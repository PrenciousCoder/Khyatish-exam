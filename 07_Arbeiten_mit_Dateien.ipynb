{
 "cells": [
  {
   "cell_type": "markdown",
   "metadata": {},
   "source": [
    "# Arbeiten mit Dateien\n",
    "\n",
    "In der Vorlesung haben wir gelernt, was Dateien genau sind und wie sie von Programmen auf dem PC verwendet werden. In diesem Tutorium werden wir die Python Anweisungen zum Lesen und Schreiben von Dateien kennen lernen.\n",
    "\n",
    "## Öffnen von Dateien\n",
    "\n",
    "Dateien werden mit der Funktion <code>open()</code> geöffnet. Dieser Funktion wird der Dateiname der Datei, die wir öffnen wollen sowie ein \"Modus\" übergeben. Der Modus dient dazu, dem Betriebssystem mitzuteilen, was mit der Datei geschehen soll. In diesem Kurs sind folgende Modi wichtig:\n",
    "\n",
    "|Modus|Bedeutung|\n",
    "|-----|---------|\n",
    "|<code>'r'</code> (read) | Die Datei wird zum **Lesen** geöffnet. |\n",
    "|<code>'w'</code> (write) | Die Datei wird zum **Schreiben** geöffnet und ihr Inhalt gelöscht. Die Datei ist also immer Leer nach dem Öffnen |\n",
    "|<code>'a'</code> (append) | Die Datei wird zum **Schreiben** geöffnet und der bisherige Inhalt bleibt erhalten. Neue Daten werden an das Ende der Datei geschrieben |\n",
    "\n",
    "Es gibt noch weitere Modi für Spezialfälle, die in https://docs.python.org/3/library/functions.html#open beschrieben sind.\n",
    "\n",
    "## Lesen und Schreiben in Dateien\n",
    "\n",
    "Die Funktion <code>open()</code> gibt ein Dateiobjekt zurück (eine Instanz einer Klasse, die Dateien repräsentiert). Über dieses Objekt kann nun aus der Datei gelesen oder in die Datei geschrieben werden. Dafür stehen die folgenden Methoden der Klasse zur Verfügung:\n",
    "\n",
    "|Methode|Funktion|\n",
    "|-------|--------|\n",
    "|<code>read(n)</code>|Es werden _n_ Zeichen aus der Datei gelesen (Falls die Datei weniger als *n* Zeichen enthält, werden weniger gelesen)|\n",
    "|<code>readline()</code>|Es werden Zeichen aus der Datei gelesen, bis ein Zeilenumbruch erreicht wird (Falls die Datei keinen Zeilenumbruch mehr enthält, werden weniger Zeichen gelesen)|\n",
    "|<code>write(s)</code>|Es werden die Zeichen aus String *s* in die Datei geschrieben (Falls kein Speicher mehr frei ist oder das Schreiben anderweitig fehlschlägt, werden weniger Zeichen geschrieben)|\n",
    "\n",
    "Die Methode <code>write()</code> liefert als Rückgabewert die Anzahl der Zeichen, die tatsächlich geschrieben wurden.\n",
    "\n",
    "## Schließen von Dateien\n",
    "\n",
    "Dateien werden mit der Methode <code>close()</code> geschlossen. Geöffnete Dateien sollten immer vor dem Ende des Programms geschlossen werden."
   ]
  },
  {
   "cell_type": "markdown",
   "metadata": {},
   "source": [
    "### Beispiel 1 - Eine Zeile aus einer Datei lesen"
   ]
  },
  {
   "cell_type": "code",
   "execution_count": null,
   "metadata": {},
   "outputs": [],
   "source": [
    "# öffnen der Datei 'hallowelt.txt' im Ordner 'files' zum Lesen\n",
    "my_file = open(\"files/hallowelt.txt\", \"r\")\n",
    "print(\"Datei geöffnet.\")\n",
    "\n",
    "# eine Zeile der Datei lesen\n",
    "eine_zeile = my_file.readline()\n",
    "print(\"Zeile gelesen.\")\n",
    "\n",
    "# datei Schließen\n",
    "my_file.close()\n",
    "\n",
    "# gelesene Zeile ausgeben\n",
    "print(\"Eingelesene Zeile:\")\n",
    "print(eine_zeile, end=\"\")"
   ]
  },
  {
   "cell_type": "markdown",
   "metadata": {},
   "source": [
    "**Frage**\n",
    "\n",
    "Warum wird in der letzten Zeile der obigen Zelle der Parameter <code>end</code> an die <code>print()</code> Funktion übergeben?\n",
    "\n",
    "### Beispiel 2 - Einzelne Zeichen aus einer Datei lesen"
   ]
  },
  {
   "cell_type": "code",
   "execution_count": null,
   "metadata": {},
   "outputs": [],
   "source": [
    "# öffnen der Datei 'hallowelt.txt' im Ordner 'files' zum Lesen\n",
    "my_file = open(\"files/hallowelt.txt\", \"r\")\n",
    "print(\"Datei geöffnet.\")\n",
    "\n",
    "# ein Zeichen der Datei lesen\n",
    "erstes_zeichen = my_file.read(1)\n",
    "print(\"Zeichen 1 gelesen.\")\n",
    "\n",
    "# ein weiteres Zeichen der Datei lesen\n",
    "zweites_zeichen = my_file.read(1)\n",
    "print(\"Zeichen 2 gelesen.\")\n",
    "\n",
    "# datei Schließen\n",
    "my_file.close()\n",
    "\n",
    "# gelesene Zeichen ausgeben\n",
    "print(\"Erstes Zeichen: \", end=\"\")\n",
    "print(erstes_zeichen)\n",
    "print(\"Zweites Zeichen: \", end=\"\")\n",
    "print(zweites_zeichen)"
   ]
  },
  {
   "cell_type": "markdown",
   "metadata": {},
   "source": [
    "### Beispiel 3 - Eine Zeile in eine Datei schreiben"
   ]
  },
  {
   "cell_type": "code",
   "execution_count": null,
   "metadata": {},
   "outputs": [],
   "source": [
    "# öffnen der Datei 'hallocomputer.txt' im Ordner 'files' zum Schreiben\n",
    "# (falls die Datei noch nicht existiert, wird sie erzeugt)\n",
    "my_file = open(\"files/hallocomputer.txt\", \"w\")\n",
    "print(\"Datei geöffnet.\")\n",
    "\n",
    "# eine Zeile in die Datei schreiben\n",
    "anzahl_zeichen_geschrieben = my_file.write(\"Hallo zurück!\\n\");\n",
    "print(\"Es wurden \" + str(anzahl_zeichen_geschrieben) + \" Zeichen in die Datei geschrieben.\")\n",
    "\n",
    "# datei Schließen\n",
    "my_file.close()\n",
    "\n",
    "# Um zu kontrollieren, was in der Datei steht, lesen wir den Inhalt wieder ein und geben ihn aus\n",
    "print(\"Kontrolle:\")\n",
    "my_file = open(\"files/hallocomputer.txt\", \"r\")\n",
    "print(my_file.readline(), end=\"\")\n",
    "my_file.close()"
   ]
  },
  {
   "cell_type": "markdown",
   "metadata": {},
   "source": [
    "### Beispiel 4 - Den gesamten Inhalt einer Datei zeilenweise auslesen"
   ]
  },
  {
   "cell_type": "code",
   "execution_count": null,
   "metadata": {},
   "outputs": [],
   "source": [
    "# öffnen der Datei 'lorem-ipsum.txt' im Ordner 'files' zum Lesen\n",
    "my_file = open(\"files/lorem-ipsum.txt\", \"r\")\n",
    "print(\"Datei geöffnet.\")\n",
    "\n",
    "zeilenzähler = 1\n",
    "zeile = my_file.readline()\n",
    "while(zeile != \"\"):\n",
    "    print(\"Zeile \" + str(zeilenzähler) + \":\")\n",
    "    print(zeile, end=\"\")\n",
    "    zeile = my_file.readline()\n",
    "    zeilenzähler += 1\n",
    "    \n",
    "my_file.close()"
   ]
  },
  {
   "cell_type": "markdown",
   "metadata": {},
   "source": [
    "### Beispiel 5 - Den gesamten Inhalt einer Datei in einen String einlesen"
   ]
  },
  {
   "cell_type": "code",
   "execution_count": 1,
   "metadata": {},
   "outputs": [
    {
     "name": "stdout",
     "output_type": "stream",
     "text": [
      "Datei geöffnet.\n",
      "Inhalt der Datei eingelesen.\n",
      "Eingelesener Inhalt:\n",
      "Lorem ipsum dolor sit amet, consectetur adipiscing elit, sed do eiusmod tempor incididunt ut labore et dolore magna aliqua.\n",
      "Dolor sed viverra ipsum nunc aliquet bibendum enim. In massa tempor nec feugiat.\n",
      "Nunc aliquet bibendum enim facilisis gravida.\n",
      "Nisl nunc mi ipsum faucibus vitae aliquet nec ullamcorper.\n",
      "Amet luctus venenatis lectus magna fringilla.\n",
      "Volutpat maecenas volutpat blandit aliquam etiam erat velit scelerisque in.\n",
      "Egestas egestas fringilla phasellus faucibus scelerisque eleifend.\n",
      "Sagittis orci a scelerisque purus semper eget duis.\n",
      "Nulla pharetra diam sit amet nisl suscipit.\n",
      "Sed adipiscing diam donec adipiscing tristique risus nec feugiat in.\n",
      "Fusce ut placerat orci nulla. Pharetra vel turpis nunc eget lorem dolor.\n",
      "Tristique senectus et netus et malesuada.\n",
      "Etiam tempor orci eu lobortis elementum nibh tellus molestie.\n",
      "Neque egestas congue quisque egestas.\n",
      "Egestas integer eget aliquet nibh praesent tristique.\n",
      "Vulputate mi sit amet mauris. Sodales neque sodales ut etiam sit.\n",
      "Dignissim suspendisse in est ante in. Volutpat commodo sed egestas egestas.\n",
      "Felis donec et odio pellentesque diam.\n",
      "Pharetra vel turpis nunc eget lorem dolor sed viverra. Porta nibh venenatis cras sed felis eget.\n",
      "Aliquam ultrices sagittis orci a. Dignissim diam quis enim lobortis.\n",
      "Aliquet porttitor lacus luctus accumsan.\n",
      "Dignissim convallis aenean et tortor at risus viverra adipiscing at.\n"
     ]
    }
   ],
   "source": [
    "# öffnen der Datei 'lorem-ipsum.txt' im Ordner 'files' zum Lesen\n",
    "my_file = open(\"files/lorem-ipsum.txt\", \"r\")\n",
    "print(\"Datei geöffnet.\")\n",
    "\n",
    "# Inhalt der Datei einlesen\n",
    "dateiinhalt = my_file.read(-1)\n",
    "print(\"Inhalt der Datei eingelesen.\")\n",
    "\n",
    "# Datei schließen\n",
    "my_file.close()\n",
    "\n",
    "# Inhalt ausgeben\n",
    "print(\"Eingelesener Inhalt:\")\n",
    "print(dateiinhalt, end=\"\")"
   ]
  }
 ],
 "metadata": {
  "kernelspec": {
   "display_name": "Python 3.9.12 64-bit",
   "language": "python",
   "name": "python3"
  },
  "language_info": {
   "codemirror_mode": {
    "name": "ipython",
    "version": 3
   },
   "file_extension": ".py",
   "mimetype": "text/x-python",
   "name": "python",
   "nbconvert_exporter": "python",
   "pygments_lexer": "ipython3",
   "version": "3.9.12"
  },
  "vscode": {
   "interpreter": {
    "hash": "b0fa6594d8f4cbf19f97940f81e996739fb7646882a419484c72d19e05852a7e"
   }
  }
 },
 "nbformat": 4,
 "nbformat_minor": 2
}
